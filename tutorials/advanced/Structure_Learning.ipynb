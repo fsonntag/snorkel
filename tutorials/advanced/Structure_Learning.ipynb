{
 "cells": [
  {
   "cell_type": "markdown",
   "metadata": {
    "deletable": true,
    "editable": true
   },
   "source": [
    "# Learning the Structure of Generative Models"
   ]
  },
  {
   "cell_type": "markdown",
   "metadata": {
    "deletable": true,
    "editable": true
   },
   "source": [
    "In this notebook, we'll use structure learning to find the dependency structure of a generative model. You can do this for any label matrix!\n",
    "\n",
    "See the [blog post](https://hazyresearch.github.io/snorkel/blog/structure_learning.html) or the [paper](https://arxiv.org/abs/1703.00854) for more details."
   ]
  },
  {
   "cell_type": "markdown",
   "metadata": {
    "deletable": true,
    "editable": true
   },
   "source": [
    "### Generating Some Data\n",
    "\n",
    "We'll generate some data from a known model of noisy labels in which two pairs of labeling functions are correlated."
   ]
  },
  {
   "cell_type": "code",
   "execution_count": 1,
   "metadata": {
    "collapsed": false
   },
   "outputs": [],
   "source": [
    "from snorkel.learning import GenerativeModelWeights\n",
    "from snorkel.learning.structure import generate_label_matrix\n",
    "\n",
    "weights = GenerativeModelWeights(10)\n",
    "for i in range(10):\n",
    "    weights.lf_accuracy[i] = 1.0\n",
    "weights.dep_similar[0, 1] = 0.5\n",
    "weights.dep_similar[2, 3] = 0.5\n",
    "\n",
    "y, L = generate_label_matrix(weights, 10000)"
   ]
  },
  {
   "cell_type": "markdown",
   "metadata": {
    "deletable": true,
    "editable": true
   },
   "source": [
    "### Structure Learning\n",
    "`L` is the label matrix produced by a `LabelManager`.\n",
    "A few notes:\n",
    "* The `deps` object is a collection of tuples specifying which labeling functions are related by which types of dependencies.\n",
    "* The keyword argument `threshold` is a positive float that indicates how strong the dependency has to be for it to be returned in the collection. Too many dependencies? Turn it up. Too few? Turn it down.\n",
    "* By default, the `DependencySelector` looks for pairwise correlations between labeling functions. Pass the keyword argument `higher_order=True` to the `select` method to also look for reinforcing and fixing dependencies (described in the [data programming paper](https://arxiv.org/abs/1605.07723))."
   ]
  },
  {
   "cell_type": "code",
   "execution_count": 2,
   "metadata": {
    "collapsed": false
   },
   "outputs": [
    {
     "name": "stdout",
     "output_type": "stream",
     "text": [
      "set([(0, 1, 0), (2, 3, 0)])\n"
     ]
    }
   ],
   "source": [
    "from snorkel.learning.structure import DependencySelector\n",
    "ds = DependencySelector()\n",
    "deps = ds.select(L, threshold=0.05)\n",
    "print deps\n",
    "assert deps == set([(0, 1, 0), (2, 3, 0)])"
   ]
  },
  {
   "cell_type": "markdown",
   "metadata": {},
   "source": [
    "### Using the Learned Structure\n",
    "\n",
    "To incorporate the selected dependencies into your generative model, just pass them in as a keyword argument:"
   ]
  },
  {
   "cell_type": "code",
   "execution_count": 3,
   "metadata": {
    "collapsed": false
   },
   "outputs": [
    {
     "name": "stdout",
     "output_type": "stream",
     "text": [
      "Inferred cardinality: 2\n"
     ]
    }
   ],
   "source": [
    "from snorkel.learning import GenerativeModel\n",
    "gen_model = GenerativeModel()\n",
    "gen_model.train(L, deps=deps)"
   ]
  },
  {
   "cell_type": "code",
   "execution_count": 4,
   "metadata": {
    "collapsed": false
   },
   "outputs": [
    {
     "name": "stdout",
     "output_type": "stream",
     "text": [
      "[ 0.99759367  1.03627493  0.9562079   1.02648033  1.04138374  1.01789283\n",
      "  0.9971977   1.0053931   1.00280444  0.98741134]\n"
     ]
    }
   ],
   "source": [
    "print gen_model.weights.lf_accuracy"
   ]
  }
 ],
 "metadata": {
  "anaconda-cloud": {},
  "kernelspec": {
   "display_name": "Python 2",
   "language": "python",
   "name": "python2"
  },
  "language_info": {
   "codemirror_mode": {
    "name": "ipython",
    "version": 2
   },
   "file_extension": ".py",
   "mimetype": "text/x-python",
   "name": "python",
   "nbconvert_exporter": "python",
   "pygments_lexer": "ipython2",
   "version": "2.7.13"
  }
 },
 "nbformat": 4,
 "nbformat_minor": 1
}
