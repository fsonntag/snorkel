{
 "cells": [
  {
   "cell_type": "markdown",
   "metadata": {},
   "source": [
    "# Chemical-Disease Relation (CDR) Tutorial\n",
    "\n",
    "In this example, we'll be writing an application to extract *mentions of* **chemical-induced-disease relationships** from Pubmed abstracts, as per the [BioCreative CDR Challenge](http://www.biocreative.org/resources/corpora/biocreative-v-cdr-corpus/).  This tutorial will show off some of the more advanced features of Snorkel, so we'll assume you've followed the Intro tutorial."
   ]
  },
  {
   "cell_type": "markdown",
   "metadata": {},
   "source": [
    "Let's start by reloading from the last notebook."
   ]
  },
  {
   "cell_type": "code",
   "execution_count": 1,
   "metadata": {
    "collapsed": true
   },
   "outputs": [],
   "source": [
    "%load_ext autoreload\n",
    "%autoreload 2\n",
    "%matplotlib inline\n",
    "\n",
    "import numpy as np\n",
    "from snorkel import SnorkelSession\n",
    "\n",
    "session = SnorkelSession()"
   ]
  },
  {
   "cell_type": "code",
   "execution_count": 2,
   "metadata": {
    "collapsed": false
   },
   "outputs": [
    {
     "name": "stdout",
     "output_type": "stream",
     "text": [
      "Training set:\t8272 candidates\n",
      "Dev set:\t888 candidates\n",
      "Test set:\t4620 candidates\n"
     ]
    }
   ],
   "source": [
    "from snorkel.models import candidate_subclass\n",
    "\n",
    "ChemicalDisease = candidate_subclass('ChemicalDisease', ['chemical', 'disease'])\n",
    "\n",
    "train = session.query(ChemicalDisease).filter(ChemicalDisease.split == 0).all()\n",
    "dev = session.query(ChemicalDisease).filter(ChemicalDisease.split == 1).all()\n",
    "test = session.query(ChemicalDisease).filter(ChemicalDisease.split == 2).all()\n",
    "\n",
    "print('Training set:\\t{0} candidates'.format(len(train)))\n",
    "print('Dev set:\\t{0} candidates'.format(len(dev)))\n",
    "print('Test set:\\t{0} candidates'.format(len(test)))"
   ]
  },
  {
   "cell_type": "code",
   "execution_count": 3,
   "metadata": {
    "collapsed": false
   },
   "outputs": [],
   "source": [
    "from snorkel.annotations import load_gold_labels\n",
    "L_gold_dev = load_gold_labels(session, annotator_name='gold', split=1)"
   ]
  },
  {
   "cell_type": "markdown",
   "metadata": {},
   "source": [
    "# Computing features\n",
    "\n",
    "For `SparseLogReg`"
   ]
  },
  {
   "cell_type": "code",
   "execution_count": 4,
   "metadata": {
    "collapsed": false
   },
   "outputs": [
    {
     "name": "stdout",
     "output_type": "stream",
     "text": [
      "Clearing existing...\n",
      "Running UDF...\n",
      "[========================================] 100%\n",
      "\n",
      "CPU times: user 8min 19s, sys: 2.54 s, total: 8min 22s\n",
      "Wall time: 8min 27s\n"
     ]
    },
    {
     "data": {
      "text/plain": [
       "<8272x122840 sparse matrix of type '<type 'numpy.int64'>'\n",
       "\twith 448906 stored elements in Compressed Sparse Row format>"
      ]
     },
     "execution_count": 4,
     "metadata": {},
     "output_type": "execute_result"
    }
   ],
   "source": [
    "from snorkel.annotations import FeatureAnnotator\n",
    "featurizer = FeatureAnnotator()\n",
    "\n",
    "%time F_train = featurizer.apply(split=0)\n",
    "F_train"
   ]
  },
  {
   "cell_type": "code",
   "execution_count": 5,
   "metadata": {
    "collapsed": false
   },
   "outputs": [
    {
     "name": "stdout",
     "output_type": "stream",
     "text": [
      "Clearing existing...\n",
      "Running UDF...\n",
      "[========================================] 100%\n",
      "\n",
      "Clearing existing...\n",
      "Running UDF...\n",
      "[========================================] 100%\n",
      "\n",
      "CPU times: user 5min 11s, sys: 1.96 s, total: 5min 13s\n",
      "Wall time: 5min 16s\n"
     ]
    }
   ],
   "source": [
    "%%time\n",
    "F_dev  = featurizer.apply_existing(split=1)\n",
    "F_test = featurizer.apply_existing(split=2)"
   ]
  },
  {
   "cell_type": "markdown",
   "metadata": {},
   "source": [
    "Or if already computed:"
   ]
  },
  {
   "cell_type": "code",
   "execution_count": 6,
   "metadata": {
    "collapsed": true
   },
   "outputs": [],
   "source": [
    "from snorkel.annotations import FeatureAnnotator\n",
    "featurizer = FeatureAnnotator()"
   ]
  },
  {
   "cell_type": "code",
   "execution_count": 7,
   "metadata": {
    "collapsed": false
   },
   "outputs": [],
   "source": [
    "F_train = featurizer.load_matrix(session, split=0)\n",
    "F_dev = featurizer.load_matrix(session, split=1)\n",
    "F_test = featurizer.load_matrix(session, split=2)"
   ]
  },
  {
   "cell_type": "markdown",
   "metadata": {},
   "source": [
    "# Training `SparseLogReg`\n",
    "\n",
    "Instead of LSTM, to start.  First, reloading training marginals:"
   ]
  },
  {
   "cell_type": "code",
   "execution_count": 8,
   "metadata": {
    "collapsed": false
   },
   "outputs": [],
   "source": [
    "from snorkel.annotations import load_marginals\n",
    "train_marginals = load_marginals(session, F_train, split=0)"
   ]
  },
  {
   "cell_type": "code",
   "execution_count": 9,
   "metadata": {
    "collapsed": false
   },
   "outputs": [],
   "source": [
    "from snorkel.learning import SparseLogisticRegression\n",
    "from snorkel.learning.utils import RandomSearch\n",
    "\n",
    "# Searching over learning rate\n",
    "param_ranges = {\n",
    "    'lr' : [1e-2, 1e-3, 1e-4, 1e-5, 1e-6],\n",
    "    'l1_penalty' : [1e-2, 1e-3, 1e-4, 1e-5, 1e-6],\n",
    "    'l2_penalty' : [1e-2, 1e-3, 1e-4, 1e-5, 1e-6]\n",
    "}\n",
    "model_hyperparams = {\n",
    "    'n_epochs' : 50,\n",
    "    'rebalance' : 0.5,\n",
    "    'print_freq' : 25\n",
    "}\n",
    "\n",
    "# NOTE: A larger search (n) would likely lead to a higher score!\n",
    "searcher = RandomSearch(SparseLogisticRegression, param_ranges, F_train,\n",
    "                        Y_train=train_marginals, n=5, model_hyperparams=model_hyperparams)"
   ]
  },
  {
   "cell_type": "code",
   "execution_count": 10,
   "metadata": {
    "collapsed": false
   },
   "outputs": [
    {
     "data": {
      "text/plain": [
       "<888x1 sparse matrix of type '<type 'numpy.int64'>'\n",
       "\twith 888 stored elements in Compressed Sparse Row format>"
      ]
     },
     "execution_count": 10,
     "metadata": {},
     "output_type": "execute_result"
    }
   ],
   "source": [
    "from snorkel.annotations import load_gold_labels\n",
    "L_gold_dev = load_gold_labels(session, annotator_name='gold', split=1)\n",
    "L_gold_dev"
   ]
  },
  {
   "cell_type": "code",
   "execution_count": 11,
   "metadata": {
    "collapsed": false
   },
   "outputs": [
    {
     "name": "stdout",
     "output_type": "stream",
     "text": [
      "============================================================\n",
      "[1] Testing l2_penalty = 1.00e-04, lr = 1.00e-04, l1_penalty = 1.00e-03\n",
      "============================================================\n",
      "[SparseLogisticRegression] Training model\n",
      "[SparseLogisticRegression] n_train=4740  #epochs=50  batch size=256\n",
      "[SparseLogisticRegression] Epoch 0 (0.25s)\tAverage loss=10.617981\n",
      "[SparseLogisticRegression] Epoch 25 (7.63s)\tAverage loss=10.511670\n",
      "[SparseLogisticRegression] Epoch 49 (14.08s)\tAverage loss=10.487445\n",
      "[SparseLogisticRegression] Training done (14.08s)\n",
      "[SparseLogisticRegression] F-1 Score: 0.502242152466\n",
      "[SparseLogisticRegression] Model saved as <SparseLogisticRegression_0>\n",
      "============================================================\n",
      "[2] Testing l2_penalty = 1.00e-06, lr = 1.00e-05, l1_penalty = 1.00e-03\n",
      "============================================================\n",
      "[SparseLogisticRegression] Training model\n",
      "[SparseLogisticRegression] n_train=4740  #epochs=50  batch size=256\n",
      "[SparseLogisticRegression] Epoch 0 (0.24s)\tAverage loss=10.546364\n",
      "[SparseLogisticRegression] Epoch 25 (7.34s)\tAverage loss=10.525524\n",
      "[SparseLogisticRegression] Epoch 49 (13.78s)\tAverage loss=10.508618\n",
      "[SparseLogisticRegression] Training done (13.78s)\n",
      "[SparseLogisticRegression] F-1 Score: 0.38263229308\n",
      "============================================================\n",
      "[3] Testing l2_penalty = 1.00e-04, lr = 1.00e-03, l1_penalty = 1.00e-02\n",
      "============================================================\n",
      "[SparseLogisticRegression] Training model\n",
      "[SparseLogisticRegression] n_train=4740  #epochs=50  batch size=256\n",
      "[SparseLogisticRegression] Epoch 0 (0.36s)\tAverage loss=99.011879\n",
      "[SparseLogisticRegression] Epoch 25 (6.70s)\tAverage loss=99.903160\n",
      "[SparseLogisticRegression] Epoch 49 (13.03s)\tAverage loss=100.899170\n",
      "[SparseLogisticRegression] Training done (13.03s)\n",
      "[SparseLogisticRegression] F-1 Score: 0.518597236982\n",
      "[SparseLogisticRegression] Model saved as <SparseLogisticRegression_2>\n",
      "============================================================\n",
      "[4] Testing l2_penalty = 1.00e-03, lr = 1.00e-03, l1_penalty = 1.00e-02\n",
      "============================================================\n",
      "[SparseLogisticRegression] Training model\n",
      "[SparseLogisticRegression] n_train=4740  #epochs=50  batch size=256\n",
      "[SparseLogisticRegression] Epoch 0 (0.24s)\tAverage loss=99.601746\n",
      "[SparseLogisticRegression] Epoch 25 (7.66s)\tAverage loss=100.554222\n",
      "[SparseLogisticRegression] Epoch 49 (14.36s)\tAverage loss=101.602570\n",
      "[SparseLogisticRegression] Training done (14.36s)\n",
      "[SparseLogisticRegression] F-1 Score: 0.51244813278\n",
      "============================================================\n",
      "[5] Testing l2_penalty = 1.00e-05, lr = 1.00e-02, l1_penalty = 1.00e-03\n",
      "============================================================\n",
      "[SparseLogisticRegression] Training model\n",
      "[SparseLogisticRegression] n_train=4740  #epochs=50  batch size=256\n",
      "[SparseLogisticRegression] Epoch 0 (0.25s)\tAverage loss=10.665933\n",
      "[SparseLogisticRegression] Epoch 25 (6.77s)\tAverage loss=10.937570\n",
      "[SparseLogisticRegression] Epoch 49 (13.95s)\tAverage loss=10.946665\n",
      "[SparseLogisticRegression] Training done (13.95s)\n",
      "[SparseLogisticRegression] F-1 Score: 0.51906779661\n",
      "[SparseLogisticRegression] Model saved as <SparseLogisticRegression_4>\n",
      "[SparseLogisticRegression] Loaded model <SparseLogisticRegression_4>\n",
      "CPU times: user 1min 23s, sys: 6.03 s, total: 1min 29s\n",
      "Wall time: 1min 11s\n"
     ]
    }
   ],
   "source": [
    "%time disc_model, run_stats = searcher.fit(F_dev, L_gold_dev)"
   ]
  },
  {
   "cell_type": "code",
   "execution_count": 12,
   "metadata": {
    "collapsed": false
   },
   "outputs": [
    {
     "data": {
      "text/html": [
       "<div>\n",
       "<table border=\"1\" class=\"dataframe\">\n",
       "  <thead>\n",
       "    <tr style=\"text-align: right;\">\n",
       "      <th></th>\n",
       "      <th>l2_penalty</th>\n",
       "      <th>lr</th>\n",
       "      <th>l1_penalty</th>\n",
       "      <th>Prec.</th>\n",
       "      <th>Rec.</th>\n",
       "      <th>F-1</th>\n",
       "    </tr>\n",
       "  </thead>\n",
       "  <tbody>\n",
       "    <tr>\n",
       "      <th>4</th>\n",
       "      <td>0.000010</td>\n",
       "      <td>0.01000</td>\n",
       "      <td>0.001</td>\n",
       "      <td>0.378086</td>\n",
       "      <td>0.827703</td>\n",
       "      <td>0.519068</td>\n",
       "    </tr>\n",
       "    <tr>\n",
       "      <th>2</th>\n",
       "      <td>0.000100</td>\n",
       "      <td>0.00100</td>\n",
       "      <td>0.010</td>\n",
       "      <td>0.378295</td>\n",
       "      <td>0.824324</td>\n",
       "      <td>0.518597</td>\n",
       "    </tr>\n",
       "    <tr>\n",
       "      <th>3</th>\n",
       "      <td>0.001000</td>\n",
       "      <td>0.00100</td>\n",
       "      <td>0.010</td>\n",
       "      <td>0.369760</td>\n",
       "      <td>0.834459</td>\n",
       "      <td>0.512448</td>\n",
       "    </tr>\n",
       "    <tr>\n",
       "      <th>0</th>\n",
       "      <td>0.000100</td>\n",
       "      <td>0.00010</td>\n",
       "      <td>0.001</td>\n",
       "      <td>0.375839</td>\n",
       "      <td>0.756757</td>\n",
       "      <td>0.502242</td>\n",
       "    </tr>\n",
       "    <tr>\n",
       "      <th>1</th>\n",
       "      <td>0.000001</td>\n",
       "      <td>0.00001</td>\n",
       "      <td>0.001</td>\n",
       "      <td>0.319728</td>\n",
       "      <td>0.476351</td>\n",
       "      <td>0.382632</td>\n",
       "    </tr>\n",
       "  </tbody>\n",
       "</table>\n",
       "</div>"
      ],
      "text/plain": [
       "   l2_penalty       lr  l1_penalty     Prec.      Rec.       F-1\n",
       "4    0.000010  0.01000       0.001  0.378086  0.827703  0.519068\n",
       "2    0.000100  0.00100       0.010  0.378295  0.824324  0.518597\n",
       "3    0.001000  0.00100       0.010  0.369760  0.834459  0.512448\n",
       "0    0.000100  0.00010       0.001  0.375839  0.756757  0.502242\n",
       "1    0.000001  0.00001       0.001  0.319728  0.476351  0.382632"
      ]
     },
     "execution_count": 12,
     "metadata": {},
     "output_type": "execute_result"
    }
   ],
   "source": [
    "run_stats"
   ]
  },
  {
   "cell_type": "markdown",
   "metadata": {},
   "source": [
    "### Scoring on the test set\n",
    "\n",
    "Finally, we'll evaluate our performance on the blind test set of 500 documents. We'll load labels similar to how we did for the development set, and use the `score` function of our extraction model to see how we did."
   ]
  },
  {
   "cell_type": "code",
   "execution_count": 13,
   "metadata": {
    "collapsed": false
   },
   "outputs": [
    {
     "name": "stdout",
     "output_type": "stream",
     "text": [
      "AnnotatorLabels created: 4620\n"
     ]
    }
   ],
   "source": [
    "from load_external_annotations import load_external_labels\n",
    "load_external_labels(session, ChemicalDisease, split=2, annotator='gold')"
   ]
  },
  {
   "cell_type": "code",
   "execution_count": 14,
   "metadata": {
    "collapsed": false
   },
   "outputs": [
    {
     "data": {
      "text/plain": [
       "<4620x1 sparse matrix of type '<type 'numpy.int64'>'\n",
       "\twith 4620 stored elements in Compressed Sparse Row format>"
      ]
     },
     "execution_count": 14,
     "metadata": {},
     "output_type": "execute_result"
    }
   ],
   "source": [
    "from snorkel.annotations import load_gold_labels\n",
    "L_gold_test = load_gold_labels(session, annotator_name='gold', split=2)\n",
    "L_gold_test"
   ]
  },
  {
   "cell_type": "code",
   "execution_count": 15,
   "metadata": {
    "collapsed": false
   },
   "outputs": [
    {
     "name": "stdout",
     "output_type": "stream",
     "text": [
      "========================================\n",
      "Scores (Un-adjusted)\n",
      "========================================\n",
      "Pos. class accuracy: 0.843\n",
      "Neg. class accuracy: 0.368\n",
      "Precision            0.392\n",
      "Recall               0.843\n",
      "F1                   0.535\n",
      "----------------------------------------\n",
      "TP: 1268 | FP: 1970 | TN: 1145 | FN: 237\n",
      "========================================\n",
      "\n"
     ]
    }
   ],
   "source": [
    "_, _, _, _ = disc_model.error_analysis(session, F_test, L_gold_test)"
   ]
  },
  {
   "cell_type": "markdown",
   "metadata": {},
   "source": [
    "# Part V: Training an LSTM extraction model\n",
    "\n",
    "In the intro tutorial, we automatically featurized the candidates and trained a linear model over these features. Here, we'll train a more complicated model for relation extraction: an LSTM network. You can read more about LSTMs [here](https://en.wikipedia.org/wiki/Long_short-term_memory) or [here](http://colah.github.io/posts/2015-08-Understanding-LSTMs/). An LSTM is a type of recurrent neural network and automatically generates a numerical representation for the candidate based on the sentence text, so no need for featurizing explicitly as in the intro tutorial. LSTMs take longer to train, and Snorkel doesn't currently support hyperparameter searches for them. We'll train a single model here, but feel free to try out other parameter sets. Just make sure to use the development set - and not the test set - for model selection.\n",
    "\n",
    "**Note: Again, training for more epochs than below will greatly improve performance- try it out!**"
   ]
  },
  {
   "cell_type": "code",
   "execution_count": 16,
   "metadata": {
    "collapsed": false
   },
   "outputs": [
    {
     "name": "stdout",
     "output_type": "stream",
     "text": [
      "[reRNN] Training model\n",
      "[reRNN] n_train=3160  #epochs=20  batch size=256\n",
      "[reRNN] Epoch 0 (18.71s)\tAverage loss=0.691763\tDev F1=50.63\n",
      "[reRNN] Epoch 5 (111.05s)\tAverage loss=0.652033\tDev F1=45.83\n",
      "[reRNN] Epoch 10 (203.66s)\tAverage loss=0.644258\tDev F1=51.26\n",
      "[reRNN] Epoch 15 (291.96s)\tAverage loss=0.640916\tDev F1=51.60\n",
      "[reRNN] Epoch 19 (361.31s)\tAverage loss=0.639032\tDev F1=50.67\n",
      "[reRNN] Model saved as <reRNN>\n",
      "[reRNN] Training done (364.09s)\n",
      "[reRNN] Loaded model <reRNN>\n"
     ]
    }
   ],
   "source": [
    "from snorkel.learning import reRNN\n",
    "\n",
    "train_kwargs = {\n",
    "    'lr':         0.01,\n",
    "    'dim':        100,\n",
    "    'n_epochs':   20,\n",
    "    'dropout':    0.5,\n",
    "    'rebalance':  0.25,\n",
    "    'print_freq': 5\n",
    "}\n",
    "\n",
    "lstm = reRNN(seed=1701, n_threads=None)\n",
    "lstm.train(train, train_marginals, X_dev=dev, Y_dev=L_gold_dev, **train_kwargs)"
   ]
  },
  {
   "cell_type": "code",
   "execution_count": 17,
   "metadata": {
    "collapsed": false
   },
   "outputs": [
    {
     "data": {
      "text/plain": [
       "(0.40391829929137141, 0.64385382059800667, 0.49641393442622955)"
      ]
     },
     "execution_count": 17,
     "metadata": {},
     "output_type": "execute_result"
    }
   ],
   "source": [
    "lstm.score(test, L_gold_test)"
   ]
  }
 ],
 "metadata": {
  "anaconda-cloud": {},
  "kernelspec": {
   "display_name": "Python 2",
   "language": "python",
   "name": "python2"
  },
  "language_info": {
   "codemirror_mode": {
    "name": "ipython",
    "version": 2
   },
   "file_extension": ".py",
   "mimetype": "text/x-python",
   "name": "python",
   "nbconvert_exporter": "python",
   "pygments_lexer": "ipython2",
   "version": "2.7.13"
  }
 },
 "nbformat": 4,
 "nbformat_minor": 1
}
