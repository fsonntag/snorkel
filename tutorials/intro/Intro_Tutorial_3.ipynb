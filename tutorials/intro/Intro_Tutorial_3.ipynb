{
 "cells": [
  {
   "cell_type": "markdown",
   "metadata": {},
   "source": [
    "# Intro. to Snorkel: Extracting Spouse Relations from the News"
   ]
  },
  {
   "cell_type": "markdown",
   "metadata": {},
   "source": [
    "## Part III: Creating or Loading Evaluation Labels\n",
    "\n",
    "Although one of the main purposes of Snorkel is to enable training of state-of-the-art machine learning models _without_ the burden of hand-labeling training data, it is still critical to have a **small** amount of labeled data to help us develop & evaluate our application.\n",
    "\n",
    "In particular, we will generally need _two_ small labeled sets:\n",
    "* A **development set**, which can be a subset of our training set, which we use to help guide us when writing _labeling functions_ (see next part of the tutorial)\n",
    "* A **test set** which we evaluate our final application performance against.  **Note that for fair evaluation, you should get someone not involved in development of your application to label the test set, so that it is _blind_!**"
   ]
  },
  {
   "cell_type": "code",
   "execution_count": null,
   "metadata": {
    "collapsed": false
   },
   "outputs": [],
   "source": [
    "%load_ext autoreload\n",
    "%autoreload 2\n",
    "import os\n",
    "\n",
    "# TO USE A DATABASE OTHER THAN SQLITE, USE THIS LINE\n",
    "# Note that this is necessary for parallel execution amongst other things...\n",
    "# os.environ['SNORKELDB'] = 'postgres:///snorkel-intro'\n",
    "\n",
    "from snorkel import SnorkelSession\n",
    "session = SnorkelSession()"
   ]
  },
  {
   "cell_type": "markdown",
   "metadata": {},
   "source": [
    "We repeat our definition of the `Spouse` `Candidate` subclass from Part II, and load in the dev and test sets (splits 1 and 2 resp.), which we'll be labeling here:"
   ]
  },
  {
   "cell_type": "code",
   "execution_count": null,
   "metadata": {
    "collapsed": false
   },
   "outputs": [],
   "source": [
    "from snorkel.models import candidate_subclass\n",
    "Spouse = candidate_subclass('Spouse', ['person1', 'person2'])"
   ]
  },
  {
   "cell_type": "code",
   "execution_count": null,
   "metadata": {
    "collapsed": false
   },
   "outputs": [],
   "source": [
    "dev_cands = session.query(Spouse).filter(Spouse.split == 1).all()\n",
    "len(dev_cands)"
   ]
  },
  {
   "cell_type": "code",
   "execution_count": null,
   "metadata": {
    "collapsed": false
   },
   "outputs": [],
   "source": [
    "test_cands = session.query(Spouse).filter(Spouse.split == 2).all()\n",
    "len(test_cands)"
   ]
  },
  {
   "cell_type": "markdown",
   "metadata": {},
   "source": [
    "## Labeling Candidates in the `Viewer`\n",
    "\n",
    "The main way to label examples in Snorkel is through the `Viewer`, which we've already seen and used in the previous notebook.\n",
    "\n",
    "**Note that we load in pre-annotated labels below, so you don't actually need to do any labeling in the `Viewer` in this tutorial!**"
   ]
  },
  {
   "cell_type": "code",
   "execution_count": null,
   "metadata": {
    "collapsed": false
   },
   "outputs": [],
   "source": [
    "from snorkel.viewer import SentenceNgramViewer\n",
    "\n",
    "# NOTE: This if-then statement is only to avoid opening the viewer during automated testing of this notebook\n",
    "# You should ignore this!\n",
    "import os\n",
    "if 'CI' not in os.environ:\n",
    "    sv = SentenceNgramViewer(dev_cands, session)\n",
    "else:\n",
    "    sv = None"
   ]
  },
  {
   "cell_type": "markdown",
   "metadata": {},
   "source": [
    "We now open the Viewer.  You can mark each `Candidate` as true or false. Try it!  These labels are automatically saved in the database backend, and can be accessed using the annotator's name as the AnnotationKey."
   ]
  },
  {
   "cell_type": "code",
   "execution_count": null,
   "metadata": {
    "collapsed": false
   },
   "outputs": [],
   "source": [
    "sv"
   ]
  },
  {
   "cell_type": "markdown",
   "metadata": {},
   "source": [
    "## Loading External Evaluation Labels\n",
    "\n",
    "We have already annotated the dev and test set for this tutorial, and we'll now load it using an externally-defined helper function.\n",
    "\n",
    "Loading and saving external \"gold\" labels can be a bit messy, but is often a critical part of development, especially when gold labels are expensive and/or time-consuming to obtain.  Snorkel stores all labels that are manually annotated in a **stable** format (called `StableLabels`), which is somewhat independent from the rest of Snorkel's data model, does not get deleted when you delete the candidates, corpus, or any other objects, and can be recovered even if the rest of the data changes or is deleted.\n",
    "\n",
    "Our general procedure with external labels is to load them into the `StableLabel` table, then use Snorkel's helpers to load them into the main data model from there. If interested in example implementation details, please see the script we now load:"
   ]
  },
  {
   "cell_type": "code",
   "execution_count": null,
   "metadata": {
    "collapsed": false
   },
   "outputs": [],
   "source": [
    "from load_external_annotations import load_external_labels\n",
    "load_external_labels(session, Spouse, annotator_name='gold')"
   ]
  },
  {
   "cell_type": "markdown",
   "metadata": {},
   "source": [
    "_We note that due to some parsing inconsistencies, you should see 220/223 and 273/279 labels loaded._\n",
    "\n",
    "If you want to confirm that these labels are loaded, you can reload the `SentenceNgramViewer` with `annotator_name=gold` to see them! Next, in Part IV, we will work towards building a model to predict these labels with high accuracy using data programming."
   ]
  }
 ],
 "metadata": {
  "anaconda-cloud": {},
  "kernelspec": {
   "display_name": "Python 2",
   "language": "python",
   "name": "python2"
  },
  "language_info": {
   "codemirror_mode": {
    "name": "ipython",
    "version": 2
   },
   "file_extension": ".py",
   "mimetype": "text/x-python",
   "name": "python",
   "nbconvert_exporter": "python",
   "pygments_lexer": "ipython2",
   "version": "2.7.13"
  },
  "widgets": {
   "state": {
    "ac7b065e18ca463a9e6dce415fd83765": {
     "views": [
      {
       "cell_index": 10
      }
     ]
    }
   },
   "version": "1.2.0"
  }
 },
 "nbformat": 4,
 "nbformat_minor": 0
}
