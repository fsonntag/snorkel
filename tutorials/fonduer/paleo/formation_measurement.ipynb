{
 "cells": [
  {
   "cell_type": "markdown",
   "metadata": {},
   "source": [
    "# Tutorial: Extracting Formation Measurements from Paleontology Literature"
   ]
  },
  {
   "cell_type": "markdown",
   "metadata": {},
   "source": [
    "# Introduction\n",
    "\n",
    "We will walk through the process of using `Fonduer` to extract relations from [**richly formatted** data](https://hazyresearch.github.io/snorkel/blog/fonduer.html), where information is conveyed via combinations of textual, structural, tabular, and visual expressions, as seen in webpages, business reports, product specifications, and scientific literature.\n",
    "\n",
    "In this tutorial, we use `Fonduer` to extract relations between paleontological formations and their corresponding physical measurements from paleontology journal articles on fossils and ancient organisms.\n",
    "\n",
    "The tutorial is broken into several parts, each covering a Phase of the `Fonduer` pipeline (as outlined in the [paper](https://arxiv.org/abs/1703.05028)):\n",
    "\n",
    "1. KBC Initialization\n",
    "2. Candidate Generation and Multimodal Featurization\n",
    "3. Probabilistic Relation Classification\n",
    "\n",
    "\n",
    "# Phase 1: KBC Initialization\n",
    "\n",
    "In this first phase of `Fonduer`'s pipeline, `Fonduer` uses a user specified _schema_ to initialize a relational database where the output KB will be stored. Furthermore, `Fonduer` iterates over its input _corpus_ and transforms each document into a unified data model, which captures the variability and multimodality of richly formatted data. This unified data model then servers as an intermediate representation used in the rest of the phases.\n",
    "\n",
    "This preprocessed data is saved to a database. Connection strings can be specified by setting the `SNORKELDB` environment variable. If no database is specified, then SQLite at `./snorkel.db` is created by default. However, to enabled parallel execution, we use PostgreSQL throughout this tutorial.\n",
    "\n",
    "We initialize several variables for convenience that define what the database should be called and what level of parallelization the `Fonduer` pipeline will be run with. In the code below, we use PostgreSQL as our database backend. \n",
    "\n",
    "Before you continue, please make sure that you have PostgreSQL installed and have created a new database named `formation_measurement`."
   ]
  },
  {
   "cell_type": "code",
   "execution_count": 1,
   "metadata": {
    "scrolled": false
   },
   "outputs": [
    {
     "name": "stderr",
     "output_type": "stream",
     "text": [
      "/Users/sen/anaconda2/lib/python2.7/site-packages/matplotlib/__init__.py:1085: UserWarning: Duplicate key in file \"/Users/sen/.matplotlib/matplotlibrc\", line #467\n",
      "  (fname, cnt))\n"
     ]
    }
   ],
   "source": [
    "%load_ext autoreload\n",
    "%autoreload 2\n",
    "%matplotlib inline\n",
    "\n",
    "import os\n",
    "import sys\n",
    "import json\n",
    "\n",
    "PARALLEL = 4 # assuming a quad-core machine\n",
    "ATTRIBUTE = \"formation_measurement\"\n",
    "\n",
    "os.environ['SNORKELDBNAME'] = ATTRIBUTE\n",
    "os.environ['SNORKELDB'] = 'postgres://localhost:5432/' + os.environ['SNORKELDBNAME']\n",
    "        \n",
    "sys.path.append(os.environ['SNORKELHOME'] + '/tutorials/fonduer/paleo/')"
   ]
  },
  {
   "cell_type": "markdown",
   "metadata": {},
   "source": [
    "## 1.1 Defining a Candidate Schema\n",
    "\n",
    "We first initialize a `SnorkelSession`, which manages the connection to the database automatically, and enables us to save intermediate results."
   ]
  },
  {
   "cell_type": "code",
   "execution_count": 2,
   "metadata": {
    "collapsed": true,
    "scrolled": false
   },
   "outputs": [],
   "source": [
    "from snorkel import SnorkelSession\n",
    "\n",
    "session = SnorkelSession()"
   ]
  },
  {
   "cell_type": "markdown",
   "metadata": {},
   "source": [
    "Next, we define the _schema_ of the relation we want to extract. This must be a subclass of Candidate, and we define it using a helper function. Here, we define a binary relation which connects two Span objects of text. This is what creates the relation's database table if it does not already exist."
   ]
  },
  {
   "cell_type": "code",
   "execution_count": 3,
   "metadata": {
    "collapsed": true
   },
   "outputs": [],
   "source": [
    "from snorkel.models import candidate_subclass\n",
    "\n",
    "Formation_Measurement = candidate_subclass('Formation_Measurement', ['formation','measurement'])"
   ]
  },
  {
   "cell_type": "markdown",
   "metadata": {},
   "source": [
    "Next, we define some measurements we want to extract."
   ]
  },
  {
   "cell_type": "code",
   "execution_count": 4,
   "metadata": {
    "collapsed": true
   },
   "outputs": [],
   "source": [
    "measurements = ['delta13CTC', 'delta13CORG', 'delta13CIC', 'delta13C', 'delta18O', 'delta13CCARB', 'delta18OCARB']"
   ]
  },
  {
   "cell_type": "markdown",
   "metadata": {
    "scrolled": false
   },
   "source": [
    "## 1.2 Parsing and Transforming the Input Documents into Unified Data Models\n",
    "\n",
    "Next, we load the corpus of datasheets and transform them into the unified data model. Each datasheet has a PDF and HTML representation. Both representations are used in conjunction to create a robust unified data model with textual, structural, tabular, and visual modality information. Note that since each document is independent of each other, we can parse the documents in parallel. Note that parallel execution will not work with SQLite, the default database engine. We depend on PostgreSQL for this functionality.\n",
    "\n",
    "### Configuring an `HTMLPreprocessor`\n",
    "We start by setting the paths to where our documents are stored, and defining a `HTMLPreprocessor` to read in the documents found in the specified paths. `max_docs` specified the number of documents to parse. For the sake of this tutorial, we only look at 7 documents.\n",
    "\n",
    "**Note that you need to have run `download_data.sh` before executing these next steps or you won't have the documents needed for the tutorial.**"
   ]
  },
  {
   "cell_type": "code",
   "execution_count": 5,
   "metadata": {
    "collapsed": true
   },
   "outputs": [],
   "source": [
    "from snorkel.parser import HTMLPreprocessor, OmniParser\n",
    "\n",
    "docs_path = os.environ['SNORKELHOME'] + '/tutorials/fonduer/paleo/data/html/'\n",
    "pdf_path = os.environ['SNORKELHOME'] + '/tutorials/fonduer/paleo/data/pdf/'\n",
    "\n",
    "max_docs = 7\n",
    "doc_preprocessor = HTMLPreprocessor(docs_path, max_docs=max_docs)"
   ]
  },
  {
   "cell_type": "markdown",
   "metadata": {},
   "source": [
    "### Configuring an `OmniParser`\n",
    "Next, we configure an `OmniParser`, which serves as our `CorpusParser` for PDF documents. We use [CoreNLP](https://stanfordnlp.github.io/CoreNLP/) as a preprocessing tool to split our documents into phrases and tokens, and to provide annotations such as part-of-speech tags and dependency parse structures for these phrases. In addition, we can specify which modality information to include in the unified data model for each document. Below, we enable all modality information."
   ]
  },
  {
   "cell_type": "code",
   "execution_count": 6,
   "metadata": {
    "scrolled": false
   },
   "outputs": [
    {
     "name": "stdout",
     "output_type": "stream",
     "text": [
      "Clearing existing...\n",
      "Running UDF...\n",
      "CPU times: user 2.88 s, sys: 131 ms, total: 3.01 s\n",
      "Wall time: 2min 8s\n"
     ]
    }
   ],
   "source": [
    "corpus_parser = OmniParser(structural=True, lingual=True, visual=True, pdf_path=pdf_path)\n",
    "%time corpus_parser.apply(doc_preprocessor, parallelism=PARALLEL)"
   ]
  },
  {
   "cell_type": "markdown",
   "metadata": {},
   "source": [
    "We can then use simple database queries (written in the syntax of [SQLAlchemy](http://www.sqlalchemy.org/), which `Fonduer` uses) to check how many documents and phrases (sentences) were parsed, or even check how many phrases and tables are contained in each document."
   ]
  },
  {
   "cell_type": "code",
   "execution_count": 7,
   "metadata": {
    "scrolled": false
   },
   "outputs": [
    {
     "name": "stdout",
     "output_type": "stream",
     "text": [
      "Documents: 7\n",
      "Phrases: 12942\n"
     ]
    }
   ],
   "source": [
    "from snorkel.models import Document, Phrase\n",
    "\n",
    "print \"Documents:\", session.query(Document).count()\n",
    "print \"Phrases:\", session.query(Phrase).count()"
   ]
  },
  {
   "cell_type": "markdown",
   "metadata": {},
   "source": [
    "## 1.3 Dividing the Corpus into Test and Train\n",
    "\n",
    "We'll split the documents 5/1/1 into train/dev/test splits. Note that here we do this in a non-random order to preverse the consistency in the tutorial, and we reference the splits by 0/1/2 respectively."
   ]
  },
  {
   "cell_type": "code",
   "execution_count": 8,
   "metadata": {},
   "outputs": [
    {
     "name": "stdout",
     "output_type": "stream",
     "text": [
      "[u'1-s2.0-S0301926806002701-main',\n",
      " u'1-s2.0-S0016703714002981-main',\n",
      " u'1-s2.0-S0037073898000566-main',\n",
      " u'1-s2.0-S0031018215005167-main',\n",
      " u'1-s2.0-S003101821500111X-main']\n"
     ]
    }
   ],
   "source": [
    "from snorkel.models import Document\n",
    "\n",
    "docs = session.query(Document).order_by(Document.name).all()\n",
    "ld   = len(docs)\n",
    "\n",
    "train_docs = set()\n",
    "dev_docs   = set()\n",
    "test_docs  = set()\n",
    "splits = (0.6, 0.8)\n",
    "data = [(doc.name, doc) for doc in docs]\n",
    "data.sort(key=lambda x: x[0])\n",
    "for i, (doc_name, doc) in enumerate(data):\n",
    "    if i < splits[0] * ld:\n",
    "        train_docs.add(doc)\n",
    "    elif i < splits[1] * ld:\n",
    "        dev_docs.add(doc)\n",
    "    else:\n",
    "        test_docs.add(doc)\n",
    "from pprint import pprint\n",
    "pprint([x.name for x in train_docs])"
   ]
  },
  {
   "cell_type": "markdown",
   "metadata": {},
   "source": [
    "# Phase 2: Candidate Extraction & Multimodal Featurization\n",
    "Given the unified data model from Phase 1, `Fonduer` extracts relation candidates based on user-provided **matchers** and **throttlers**. Then, `Fonduer` leverages the multimodality information captured in the unified data model to provide multimodal features for each candidate.\n",
    "\n",
    "## 2.1 Candidate Extraction\n",
    "\n",
    "The next step is to extract **candidates** from our corpus. A `candidate` is the object for which we want to make predictions. In this case, the candidates are pairs of paleontological formation names and their corresponding physical measurements as reported in journal articles. Our task is to predict which pairs are true in the associated document.\n",
    "\n",
    "To do so, we write **matchers** to define which spans of text in the corpus are instances of each entity. Matchers can leverage a variety of information from regular expressions, to dictionaries, to user-defined functions. Furthermore, different techniques can be combined to form higher quality matchers. In general, matchers should seek to be as precise as possible while maintaining complete recall.\n",
    "\n",
    "In our case, we need to write a matcher that defines a formation and a matcher to define a valid measurement value.\n",
    "\n",
    "### Writing a simple measurement matcher\n",
    "\n",
    "Our measurement matcher can be a very simple regular expression since we know that we are looking for real values."
   ]
  },
  {
   "cell_type": "code",
   "execution_count": 9,
   "metadata": {
    "collapsed": true
   },
   "outputs": [],
   "source": [
    "from snorkel.matchers import *\n",
    "\n",
    "measurement_matcher = RegexMatchSpan(rgx = u'^[+-]?[ ]?((\\d){1,2}[\\.]\\d*)([eE][+-]?\\d+)?$', longest_match_only = True)"
   ]
  },
  {
   "cell_type": "markdown",
   "metadata": {},
   "source": [
    "### Writing a formation matcher\n",
    "\n",
    "For formation, we show that formation can leverage human knowledge as a dictionary of known formation names, and use user-defined names together. Here, we create a dictionary matcher for standard formation names."
   ]
  },
  {
   "cell_type": "code",
   "execution_count": 10,
   "metadata": {
    "collapsed": true
   },
   "outputs": [],
   "source": [
    "### Dictionary of known transistor parts ###\n",
    "\n",
    "with open(os.environ['SNORKELHOME'] + '/tutorials/fonduer/paleo/data/dict/dictionaries.json', 'r') as f:\n",
    "    raw_dict_json = json.load(f)\n",
    "formation_dict = raw_dict_json['success']['data'][0]['term_hits'].keys()\n",
    "\n",
    "formation_dict += ['Angostura', 'Dolostone', 'Doushantuo', 'Dolostones', 'Heletz Formation', \n",
    "                   'Atar Group', 'Carboniferous sandstones']\n",
    "            \n",
    "formation_matcher = DictionaryMatch(d = formation_dict, ignore_case = True, longest_match_only = True)"
   ]
  },
  {
   "cell_type": "markdown",
   "metadata": {},
   "source": [
    "Note, `Fonduer` can use *Union* to union all of different matchers together to form your final matcher.\n",
    "\n",
    "*matcher = Union(matcher_1, matcher_2)*"
   ]
  },
  {
   "cell_type": "markdown",
   "metadata": {},
   "source": [
    "### Define a relation's `ContextSpaces`\n",
    "\n",
    "Next, in order to define the \"space\" of all candidates that are even considered from the document, we need to define a `ContextSpace` for each component of the relation we wish to extract.\n",
    "\n",
    "In the case of formation names, the `ContextSpace` can be quite complex due to the need to handle the all kinds of names. To handle these, we consider all n-grams up to 6 words long.\n",
    "\n",
    "In contrast, the `ContextSpace` for measurement values is simpler: we don't need to look at more than two words at a time."
   ]
  },
  {
   "cell_type": "code",
   "execution_count": 11,
   "metadata": {
    "collapsed": true
   },
   "outputs": [],
   "source": [
    "from snorkel.candidates import OmniNgrams\n",
    "\n",
    "formation_ngrams = OmniNgrams(n_max=6, split_tokens=[])\n",
    "measurement_ngrams = OmniNgrams(n_max=2, split_tokens=[])"
   ]
  },
  {
   "cell_type": "markdown",
   "metadata": {},
   "source": [
    "### Defining candidate `Throttlers`\n",
    "\n",
    "Next, we need to define **throttlers**, which allow us to further prune excess candidates and avoid unnecessarily materializing invalid candidates. Trottlers, like matchers, act as hard filters, and should be created to have high precision while maintaining complete recall, if possible.\n",
    "\n",
    "Here, we create a throttler that only keep candidates if they are all have visual features, and located within 2 pages, and measurement value are not start with `+`."
   ]
  },
  {
   "cell_type": "code",
   "execution_count": 12,
   "metadata": {
    "collapsed": true
   },
   "outputs": [],
   "source": [
    "from snorkel.contrib.fonduer.lf_helpers import *\n",
    "\n",
    "def formation_measurement_throttler((formation, measurement)):\n",
    "    return formation.is_visual() and measurement.is_visual() and \\\n",
    "        abs(bbox_from_span(formation).page - bbox_from_span(measurement).page) <= 1 and \\\n",
    "        measurement.get_span().startswith('+') == False\n",
    "throttler = formation_measurement_throttler"
   ]
  },
  {
   "cell_type": "markdown",
   "metadata": {},
   "source": [
    "### Running the `CandidateExtractor`\n",
    "\n",
    "Now, we have all the component necessary to perform candidate extraction. We have defined the \"space\" of things to consider for each candidate, provided matchers that signal when a valid mention is seen, and a throttler to prunes away excess candidates. We now can define the `CandidateExtractor` with the contexts to extract from, the matchers, and the throttler to use. "
   ]
  },
  {
   "cell_type": "code",
   "execution_count": 13,
   "metadata": {
    "scrolled": false
   },
   "outputs": [
    {
     "name": "stdout",
     "output_type": "stream",
     "text": [
      "Clearing existing...\n",
      "Running UDF...\n",
      "[========================================] 100%\n",
      "CPU times: user 24.8 s, sys: 1.11 s, total: 25.9 s\n",
      "Wall time: 35.7 s\n"
     ]
    }
   ],
   "source": [
    "from snorkel.candidates import CandidateExtractor\n",
    "\n",
    "candidate_extractor = CandidateExtractor(Formation_Measurement, \n",
    "                        [formation_ngrams, measurement_ngrams], \n",
    "                        [formation_matcher, measurement_matcher], \n",
    "                        throttler=throttler)\n",
    "\n",
    "%time candidate_extractor.apply(train_docs, split=0)"
   ]
  },
  {
   "cell_type": "markdown",
   "metadata": {},
   "source": [
    "Here we specified that these `Candidates` belong to the training set by specifying `split=0`; recall that we're referring to train/dev/test as splits 0/1/2."
   ]
  },
  {
   "cell_type": "code",
   "execution_count": 14,
   "metadata": {},
   "outputs": [
    {
     "name": "stdout",
     "output_type": "stream",
     "text": [
      "Number of candidates: 12289\n"
     ]
    }
   ],
   "source": [
    "train_cands = session.query(Formation_Measurement).filter(Formation_Measurement.split == 0).all()\n",
    "print \"Number of candidates:\", len(train_cands)"
   ]
  },
  {
   "cell_type": "markdown",
   "metadata": {},
   "source": [
    "### Repeating for development and test splits\n",
    "Finally, we rerun the same operation for the other two document divisions: dev and test. For each, we simply load the `Corpus` object and run them through the `CandidateExtractor`."
   ]
  },
  {
   "cell_type": "code",
   "execution_count": 15,
   "metadata": {},
   "outputs": [
    {
     "name": "stdout",
     "output_type": "stream",
     "text": [
      "Clearing existing...\n",
      "Running UDF...\n",
      "[========================================] 100%\n",
      "Number of candidates: 1731\n",
      "Clearing existing...\n",
      "Running UDF...\n",
      "[========================================] 100%\n",
      "Number of candidates: 5768\n",
      "CPU times: user 8.27 s, sys: 452 ms, total: 8.72 s\n",
      "Wall time: 14.2 s\n"
     ]
    }
   ],
   "source": [
    "%%time\n",
    "for i, docs in enumerate([dev_docs, test_docs]):\n",
    "    candidate_extractor.apply(docs, split=i+1)\n",
    "    print \"Number of candidates:\", session.query(Formation_Measurement).filter(Formation_Measurement.split == i+1).count()"
   ]
  },
  {
   "cell_type": "markdown",
   "metadata": {},
   "source": [
    "## 2.2 Multimodal Featurization\n",
    "Unlike dealing with plain unstructured text, `Fonduer` deals with richly formatted data, and consequently featurizes each candidate with a baseline library of multimodal features. \n",
    "\n",
    "### Featurize with `Fonduer`'s optimized Postgres Feature Annotator\n",
    "We now annotate the candidates in our training, dev, and test sets with features. The `BatchFeatureAnnotator` provided by `Fonduer` allows this to be done in parallel to improve performance.\n",
    "\n",
    "`featurizer.apply` takes three important arguments.\n",
    "* `split` defines which candidate set we are dealing with. For example, `split=0` is the training set.\n",
    "* `replace_key_set` determine whether or not replace, or reinitialize, the set of features to apply to candidates. That is, when `replace_key_set` is true, key set of features will be replaced with the key set of the features found in the split that is being processed.\n",
    "* `parallelism` determines how many processes to run in parallel.\n",
    "\n",
    "Notices that `replace_key_set=True` only for the first call to `featurizer.apply`, while the other calls have this parameter set to `False`. This is because we want to have the set of features we label candidates with defined by the features found in the set of training documents only. If a later call to `featurizer.apply` replaced the key set, then only the features of that particular split would be considered later in the pipeline."
   ]
  },
  {
   "cell_type": "code",
   "execution_count": 16,
   "metadata": {},
   "outputs": [
    {
     "name": "stdout",
     "output_type": "stream",
     "text": [
      "Clearing existing...\n",
      "Running UDF...\n",
      "Copying formation_measurement_feature_updates to postgres\n",
      "COPY 12289\n",
      "\n",
      "CPU times: user 40.2 s, sys: 1.81 s, total: 42 s\n",
      "Wall time: 10min 51s\n",
      "(12289, 54101)\n",
      "Clearing existing...\n",
      "Running UDF...\n",
      "Copying formation_measurement_feature_updates to postgres\n",
      "COPY 1731\n",
      "\n",
      "CPU times: user 3.61 s, sys: 307 ms, total: 3.92 s\n",
      "Wall time: 53.9 s\n",
      "(1731, 54101)\n",
      "Clearing existing...\n",
      "Running UDF...\n",
      "Copying formation_measurement_feature_updates to postgres\n",
      "COPY 5768\n",
      "\n",
      "CPU times: user 14.5 s, sys: 727 ms, total: 15.2 s\n",
      "Wall time: 4min\n",
      "(5768, 54101)\n"
     ]
    }
   ],
   "source": [
    "from snorkel.contrib.fonduer.async_annotations import BatchFeatureAnnotator\n",
    "\n",
    "featurizer = BatchFeatureAnnotator(Formation_Measurement)\n",
    "%time F_train = featurizer.apply(split=0, replace_key_set=True, parallelism=PARALLEL)\n",
    "print F_train.shape\n",
    "%time F_dev = featurizer.apply(split=1, replace_key_set=False, parallelism=PARALLEL)\n",
    "print F_dev.shape\n",
    "%time F_test = featurizer.apply(split=2, replace_key_set=False, parallelism=PARALLEL)\n",
    "print F_test.shape"
   ]
  },
  {
   "cell_type": "markdown",
   "metadata": {},
   "source": [
    "At the end of this phase, `Fonduer` has generated the set of candidates and the feature matrix. Note that Phase 1 and 2 are relatively static and typically are only executed once during the KBC process.\n",
    "\n",
    "# Phase 3: Probabilistic Relation Classification\n",
    "In this phase, `Fonduer` applies user-defined **labeling functions**, which express various heuristics, patterns, and [weak supervision](http://hazyresearch.github.io/snorkel/blog/weak_supervision.html) strategies to label our data, to each of the candidates to create a label matrix that is used by our data programming engine.\n",
    "\n",
    "In the wild, hand-labeled training data is rare and expensive. A common scenario is to have access to tons of unlabeled training data, and have some idea of how to label them programmatically. For example:\n",
    "* We may be able to think of text patterns that would indicate a formation and measurement mention are related, for example a user can identify frequent keywords that appear to express the measurement relation.\n",
    "* We may have access to an external knowledge base that lists some pairs of formations and measurements, and can use these to noisily label some of our mention pairs.\n",
    "Our labeling functions will capture these types of strategies. We know that these labeling functions will not be perfect, and some may be quite low-quality, so we will model their accuracies with a generative model, which `Fonduer` will help us easily apply.\n",
    "\n",
    "Using data programming, we can then train machine learning models to learn which features are the most important in classifying candidates.\n",
    "\n",
    "### Loading Gold Data\n",
    "For convenience in error analysis and evaluation, we have already annotated the dev and test set for this tutorial, and we'll now load it using an externally-defined helper function.\n",
    "\n",
    "Loading and saving external \"gold\" labels can be a bit messy, but is often a critical part of development, especially when gold labels are expensive and/or time-consuming to obtain. Snorkel stores all labels that are manually annotated in a **stable** format (called StableLabels), which is somewhat independent from the rest of Snorkel's data model, does not get deleted when you delete the candidates, corpus, or any other objects, and can be recovered even if the rest of the data changes or is deleted.\n",
    "\n",
    "Our general procedure with external labels is to load them into the `StableLabel` table, then use `Fonduer`'s helpers to load them into the main data model from there. If interested in example implementation details, please see the script we now load:"
   ]
  },
  {
   "cell_type": "code",
   "execution_count": 17,
   "metadata": {},
   "outputs": [
    {
     "name": "stdout",
     "output_type": "stream",
     "text": [
      "Loading 19788 candidate labels\n",
      "[========================================] 100%\n",
      "AnnotatorLabels created: 19788\n"
     ]
    }
   ],
   "source": [
    "from paleo_utils import load_paleo_labels\n",
    "\n",
    "gold_file = os.environ['SNORKELHOME'] + '/tutorials/fonduer/paleo/data/paleo_gold.csv'\n",
    "\n",
    "load_paleo_labels(session, Formation_Measurement, gold_file, measurements ,annotator_name='gold')"
   ]
  },
  {
   "cell_type": "markdown",
   "metadata": {},
   "source": [
    "### Creating Labeling Functions\n",
    "\n",
    "In `Fonduer`, our primary interface through which we provide training signal to the end extraction model we are training is by writing labeling functions (**LFs**) (as opposed to hand-labeling massive training sets).\n",
    "\n",
    "A labeling function isn't anything special. It's just a Python function that accepts a `Candidate` as the input argument and returns TRUE (`1`) if it says the Candidate should be marked as true, FALSE (`-1`) if it says the `Candidate` should be marked as false, and ABSTAIN (`0`) if it doesn't know how to vote and abstains. In practice, many labeling functions are unipolar: they only label TRUEs and ABSTAINs, or only FALSEs and ABSTAINs.\n",
    "\n",
    "Recall that our goal is to ultimately train a high-performance classification model that predicts which of our Candidates are true mentions of formation measurement relations. It turns out that we can do this by writing potentially low-quality labeling functions!\n",
    "\n",
    "With `Fonduer`, labeling functions can be written using intuitive patterns discovered by inspecting the target corpus. A library of labeling function helpers can be found in `snorke.contrib.fonduer.lf_helpers`. \n",
    "\n",
    "For example, inspecting several document may reveal that measurement values are typically listed inside a table where the row header contains the measurement keywords. This intuitive pattern can be directly expressed as a labeling function. Similarly, the measurement keywords is an obvious positive signal."
   ]
  },
  {
   "cell_type": "code",
   "execution_count": 18,
   "metadata": {
    "collapsed": true
   },
   "outputs": [],
   "source": [
    "# Helper functions\n",
    "TRUE,FALSE,ABSTAIN = 1,-1,0"
   ]
  },
  {
   "cell_type": "code",
   "execution_count": 19,
   "metadata": {
    "collapsed": true
   },
   "outputs": [],
   "source": [
    "def isfloat(value):\n",
    "  try:\n",
    "    float(value)\n",
    "    return True\n",
    "  except ValueError:\n",
    "    return False"
   ]
  },
  {
   "cell_type": "markdown",
   "metadata": {},
   "source": [
    "We express several of these simple patterns below as a set of labeling functions:"
   ]
  },
  {
   "cell_type": "code",
   "execution_count": 20,
   "metadata": {
    "collapsed": true
   },
   "outputs": [],
   "source": [
    "from snorkel.contrib.fonduer.lf_helpers import *\n",
    "\n",
    "def LF_page_distance(c):\n",
    "    if abs(c[0].get_attrib_tokens('page')[0] - c[1].get_attrib_tokens('page')[0]) >= 2:\n",
    "        return FALSE\n",
    "    return ABSTAIN\n",
    "\n",
    "def LF_page_order(c):\n",
    "    if c[0].get_attrib_tokens('page')[0] < c[1].get_attrib_tokens('page')[0]:\n",
    "        return FALSE\n",
    "    return ABSTAIN\n",
    "\n",
    "def LF_invalid_measuremnt(c):\n",
    "    measuremnt = (''.join(c[1].get_span().split())).upper()\n",
    "    return FALSE if (not isfloat(measuremnt)) or abs(float(measuremnt)) >= 100 else ABSTAIN\n",
    "\n",
    "def LF_vert_ngrams(c):\n",
    "    if c[1].sentence.table is None: return ABSTAIN\n",
    "    ml = [_.upper() for _ in list(get_vert_aligned_ngrams(c[1]))]\n",
    "    me = ''.join(ml).upper()\n",
    "    for m in measurements:\n",
    "        if len(m) > 2:\n",
    "            if m.upper() in me or m.upper().replace('DELTA', '8') in me or m.upper().replace('DELTA', 'D') in me:\n",
    "                return ABSTAIN\n",
    "        else:\n",
    "            if m.upper() in ml or m.upper().replace('DELTA', '8') in ml or m.upper().replace('DELTA', 'D') in ml:\n",
    "                return ABSTAIN\n",
    "    return FALSE\n",
    "\n",
    "def LF_LCA_and_Ngrams_and_colname(c):\n",
    "    return TRUE if same_page(c) and c[1].sentence.table and LF_vert_ngrams(c)==0 and lowest_common_ancestor_depth(c)<=1 else ABSTAIN"
   ]
  },
  {
   "cell_type": "markdown",
   "metadata": {},
   "source": [
    "Then, we collect all of the labeling function we would like to use into a single list, which is provided as input to the `LabelAnnotator`."
   ]
  },
  {
   "cell_type": "code",
   "execution_count": 21,
   "metadata": {
    "collapsed": true
   },
   "outputs": [],
   "source": [
    "formation_measurement_lfs = [LF_page_distance, LF_invalid_measuremnt, LF_vert_ngrams, LF_LCA_and_Ngrams_and_colname]"
   ]
  },
  {
   "cell_type": "markdown",
   "metadata": {},
   "source": [
    "### Applying the Labeling Functions\n",
    "\n",
    "Next, we need to actually run the LFs over all of our training candidates, producing a set of `Labels` and `LabelKeys` (just the names of the LFs) in the database. We'll do this using the `LabelAnnotator` class, a `UDF` which we will again run with `UDFRunner`. Note that this will delete any existing `Labels` and `LabelKeys` for this candidate set. Also note that we are using `Fonduer`'s optimized batch label annotator, which runs in parallel and depends on having Postgres as the backend database. \n",
    "\n",
    "By default, `labeler.apply` will drop the existing table of labeling functions and the label values for each candidate. However, this behavior can be controlled by three parameters to the function to imperove iteration performance and reduce redundant computation:\n",
    "- `split` defines which set to operate on (e.g. train, dev, or test)\n",
    "- `clear` can be `True` or `False`, and is `True` by default. When set to `False`, the labeling function table is not dropped, and the behavior of `labeler.apply` is defined by the following two parameters.\n",
    "- `update_keys` can be `True` or `False`. When `True`, the keys (which are each labeling function) are updated according to the set of labeling functions provided to the function. This should be set to `True` if new labeling functions are added. When `False`, no new LFs are evaluated and the keys of existing LFs remain the same.\n",
    "- `update_values` can be `True` or `False`. This defines how to resolve conflicts. When `True`, the values assigned to each candiate is updated to the new values when in conflict. This should be set to `True` if labeling function logic is edited, even though the name of the labeling function remains the same. When `False`, the existing labels assigned to each candidate are used, and newly computed labels are ignored.\n",
    "- `parallelism` is the amount of parallelism to use when labeling.\n",
    "\n",
    "With this in mind, we set `clear=True` when we first apply our labeling functions, and this ensures that the table is created and intialized with proper keys and values.\n",
    "\n",
    "In future iterations, we would typically set `clear=False, update_keys=True, update_values=True` so that we can simple update the set of LFs and their values without recreating the entire table."
   ]
  },
  {
   "cell_type": "code",
   "execution_count": 22,
   "metadata": {},
   "outputs": [
    {
     "name": "stdout",
     "output_type": "stream",
     "text": [
      "Clearing existing...\n",
      "Running UDF...\n",
      "Copying formation_measurement_label_updates to postgres\n",
      "COPY 12289\n",
      "\n",
      "CPU times: user 560 ms, sys: 77.4 ms, total: 638 ms\n",
      "Wall time: 41.9 s\n",
      "(12289, 2)\n"
     ]
    }
   ],
   "source": [
    "from snorkel.contrib.fonduer.async_annotations import BatchLabelAnnotator\n",
    "\n",
    "labeler = BatchLabelAnnotator(Formation_Measurement, lfs = formation_measurement_lfs)\n",
    "%time L_train = labeler.apply(split=0, clear=True, parallelism=PARALLEL)\n",
    "print L_train.shape"
   ]
  },
  {
   "cell_type": "markdown",
   "metadata": {},
   "source": [
    "Note that the returned matrix is a special subclass of the scipy.sparse.csr_matrix class, with some special features which we demonstrate below:"
   ]
  },
  {
   "cell_type": "code",
   "execution_count": 23,
   "metadata": {},
   "outputs": [
    {
     "data": {
      "text/plain": [
       "Formation_Measurement(Span(\"dolostone\", sentence=31391, chars=[24,32], words=[7,7]), Span(\"0.70847\", sentence=31319, chars=[9,15], words=[2,2]))"
      ]
     },
     "execution_count": 23,
     "metadata": {},
     "output_type": "execute_result"
    }
   ],
   "source": [
    "L_train.get_candidate(session, 0)"
   ]
  },
  {
   "cell_type": "markdown",
   "metadata": {},
   "source": [
    "We can also view statistics about the resulting label matrix.\n",
    "* **Coverage** is the fraction of candidates that the labeling function emits a non-zero label for.\n",
    "* **Overlap** is the fraction candidates that the labeling function emits a non-zero label for and that another labeling function emits a non-zero label for.\n",
    "* **Conflict** is the fraction candidates that the labeling function emits a non-zero label for and that another labeling function emits a conflicting non-zero label for.\n",
    "\n",
    "In addition, because we have already loaded the gold labels, we can view the emperical accuracy of these labeling functions when compared to our gold labels:"
   ]
  },
  {
   "cell_type": "code",
   "execution_count": 24,
   "metadata": {},
   "outputs": [
    {
     "name": "stdout",
     "output_type": "stream",
     "text": [
      "CPU times: user 11.6 ms, sys: 693 µs, total: 12.3 ms\n",
      "Wall time: 12.3 ms\n"
     ]
    },
    {
     "data": {
      "text/html": [
       "<div>\n",
       "<table border=\"1\" class=\"dataframe\">\n",
       "  <thead>\n",
       "    <tr style=\"text-align: right;\">\n",
       "      <th></th>\n",
       "      <th>j</th>\n",
       "      <th>Coverage</th>\n",
       "      <th>Overlaps</th>\n",
       "      <th>Conflicts</th>\n",
       "      <th>TP</th>\n",
       "      <th>FP</th>\n",
       "      <th>FN</th>\n",
       "      <th>TN</th>\n",
       "      <th>Empirical Acc.</th>\n",
       "    </tr>\n",
       "  </thead>\n",
       "  <tbody>\n",
       "    <tr>\n",
       "      <th>LF_LCA_and_Ngrams_and_colname</th>\n",
       "      <td>0</td>\n",
       "      <td>0.006917</td>\n",
       "      <td>0.0</td>\n",
       "      <td>0.0</td>\n",
       "      <td>85</td>\n",
       "      <td>0</td>\n",
       "      <td>0</td>\n",
       "      <td>0</td>\n",
       "      <td>1.000000</td>\n",
       "    </tr>\n",
       "    <tr>\n",
       "      <th>LF_vert_ngrams</th>\n",
       "      <td>1</td>\n",
       "      <td>0.638864</td>\n",
       "      <td>0.0</td>\n",
       "      <td>0.0</td>\n",
       "      <td>0</td>\n",
       "      <td>0</td>\n",
       "      <td>2704</td>\n",
       "      <td>5147</td>\n",
       "      <td>0.655585</td>\n",
       "    </tr>\n",
       "  </tbody>\n",
       "</table>\n",
       "</div>"
      ],
      "text/plain": [
       "                               j  Coverage  Overlaps  Conflicts  TP  FP    FN  \\\n",
       "LF_LCA_and_Ngrams_and_colname  0  0.006917       0.0        0.0  85   0     0   \n",
       "LF_vert_ngrams                 1  0.638864       0.0        0.0   0   0  2704   \n",
       "\n",
       "                                 TN  Empirical Acc.  \n",
       "LF_LCA_and_Ngrams_and_colname     0        1.000000  \n",
       "LF_vert_ngrams                 5147        0.655585  "
      ]
     },
     "execution_count": 24,
     "metadata": {},
     "output_type": "execute_result"
    }
   ],
   "source": [
    "from snorkel.annotations import load_gold_labels\n",
    "L_gold_train = load_gold_labels(session, annotator_name='gold', split=0)\n",
    "%time L_train.lf_stats(L_gold_train)"
   ]
  },
  {
   "cell_type": "markdown",
   "metadata": {},
   "source": [
    "### Fitting the Generative Model\n",
    "\n",
    "Now, we'll train a model of the LFs to estimate their accuracies. Once the model is trained, we can combine the outputs of the LFs into a single, noise-aware training label set for our extractor. Intuitively, we'll model the LFs by observing how they overlap and conflict with each other."
   ]
  },
  {
   "cell_type": "code",
   "execution_count": 25,
   "metadata": {},
   "outputs": [
    {
     "name": "stderr",
     "output_type": "stream",
     "text": [
      "/Users/sen/anaconda2/lib/python2.7/site-packages/matplotlib/__init__.py:1401: UserWarning:  This call to matplotlib.use() has no effect\n",
      "because the backend has already been chosen;\n",
      "matplotlib.use() must be called *before* pylab, matplotlib.pyplot,\n",
      "or matplotlib.backends is imported for the first time.\n",
      "\n",
      "  warnings.warn(_use_error_msg)\n"
     ]
    },
    {
     "name": "stdout",
     "output_type": "stream",
     "text": [
      "CPU times: user 37.3 s, sys: 73.5 ms, total: 37.3 s\n",
      "Wall time: 37.4 s\n"
     ]
    }
   ],
   "source": [
    "from snorkel.learning import GenerativeModel\n",
    "\n",
    "gen_model = GenerativeModel()\n",
    "%time gen_model.train(L_train, epochs=500, decay=0.9, step_size=0.001/L_train.shape[0], reg_param=0)"
   ]
  },
  {
   "cell_type": "markdown",
   "metadata": {},
   "source": [
    "We now apply the generative model to the training candidates to get the noise-aware training label set. We'll refer to these as the training marginals:"
   ]
  },
  {
   "cell_type": "code",
   "execution_count": 26,
   "metadata": {
    "collapsed": true
   },
   "outputs": [],
   "source": [
    "train_marginals = gen_model.marginals(L_train)"
   ]
  },
  {
   "cell_type": "markdown",
   "metadata": {},
   "source": [
    "We'll look at the distribution of the training marginals:"
   ]
  },
  {
   "cell_type": "code",
   "execution_count": 27,
   "metadata": {},
   "outputs": [
    {
     "data": {
      "image/png": "[encoded data removed]",
      "text/plain": [
       "<matplotlib.figure.Figure at 0x11fba7e90>"
      ]
     },
     "metadata": {},
     "output_type": "display_data"
    }
   ],
   "source": [
    "import matplotlib.pyplot as plt\n",
    "plt.hist(train_marginals, bins=20)\n",
    "plt.show()"
   ]
  },
  {
   "cell_type": "markdown",
   "metadata": {},
   "source": [
    "We can view the learned accuracy parameters as well."
   ]
  },
  {
   "cell_type": "code",
   "execution_count": 28,
   "metadata": {},
   "outputs": [
    {
     "data": {
      "text/plain": [
       "array([ 0.72882064,  0.73071124])"
      ]
     },
     "execution_count": 28,
     "metadata": {},
     "output_type": "execute_result"
    }
   ],
   "source": [
    "gen_model.weights.lf_accuracy()"
   ]
  },
  {
   "cell_type": "markdown",
   "metadata": {},
   "source": [
    "### Training the Discriminative Model\n",
    "\n",
    "Now, we'll use the noisy training labels we generated in the last part to train our end extraction model. For this tutorial, we will be training a simple - but fairly effective - logistic regression model.\n",
    "\n",
    "We use the training marginals to train a discriminative model that classifies each Candidate as a true or false mention. "
   ]
  },
  {
   "cell_type": "code",
   "execution_count": 29,
   "metadata": {},
   "outputs": [
    {
     "name": "stdout",
     "output_type": "stream",
     "text": [
      "[SparseLR] lr=0.001 l1=0.0 l2=0.0\n",
      "[SparseLR] Building model\n",
      "[SparseLR] Training model\n",
      "[SparseLR] #examples=7936  #epochs=200  batch size=100\n",
      "[SparseLR] Epoch 0 (2.88s)\tAvg. loss=0.437994\tNNZ=54101\n",
      "[SparseLR] Epoch 5 (15.87s)\tAvg. loss=0.368211\tNNZ=54101\n",
      "[SparseLR] Epoch 10 (28.96s)\tAvg. loss=0.366884\tNNZ=54101\n",
      "[SparseLR] Epoch 15 (42.07s)\tAvg. loss=0.366510\tNNZ=54101\n",
      "[SparseLR] Epoch 20 (55.29s)\tAvg. loss=0.366347\tNNZ=54101\n",
      "[SparseLR] Epoch 25 (68.46s)\tAvg. loss=0.366244\tNNZ=54101\n",
      "[SparseLR] Epoch 30 (81.57s)\tAvg. loss=0.366195\tNNZ=54101\n",
      "[SparseLR] Epoch 35 (94.78s)\tAvg. loss=0.366165\tNNZ=54101\n",
      "[SparseLR] Epoch 40 (108.03s)\tAvg. loss=0.366182\tNNZ=54101\n",
      "[SparseLR] Epoch 45 (121.14s)\tAvg. loss=0.366136\tNNZ=54101\n",
      "[SparseLR] Epoch 50 (134.22s)\tAvg. loss=0.366176\tNNZ=54101\n",
      "[SparseLR] Epoch 55 (147.35s)\tAvg. loss=0.366154\tNNZ=54101\n",
      "[SparseLR] Epoch 60 (160.57s)\tAvg. loss=0.366151\tNNZ=54101\n",
      "[SparseLR] Epoch 65 (173.70s)\tAvg. loss=0.366442\tNNZ=54101\n",
      "[SparseLR] Epoch 70 (186.79s)\tAvg. loss=0.366183\tNNZ=54101\n",
      "[SparseLR] Epoch 75 (199.99s)\tAvg. loss=0.366160\tNNZ=54101\n",
      "[SparseLR] Epoch 80 (213.13s)\tAvg. loss=0.366268\tNNZ=54101\n",
      "[SparseLR] Epoch 85 (226.34s)\tAvg. loss=0.366496\tNNZ=54101\n",
      "[SparseLR] Epoch 90 (239.40s)\tAvg. loss=0.366627\tNNZ=54101\n",
      "[SparseLR] Epoch 95 (252.74s)\tAvg. loss=0.366152\tNNZ=54101\n",
      "[SparseLR] Epoch 100 (265.89s)\tAvg. loss=0.366176\tNNZ=54101\n",
      "[SparseLR] Epoch 105 (279.02s)\tAvg. loss=0.366228\tNNZ=54101\n",
      "[SparseLR] Epoch 110 (292.15s)\tAvg. loss=0.366260\tNNZ=54101\n",
      "[SparseLR] Epoch 115 (305.39s)\tAvg. loss=0.367111\tNNZ=54101\n",
      "[SparseLR] Epoch 120 (318.56s)\tAvg. loss=0.366122\tNNZ=54101\n",
      "[SparseLR] Epoch 125 (331.66s)\tAvg. loss=0.366158\tNNZ=54101\n",
      "[SparseLR] Epoch 130 (344.98s)\tAvg. loss=0.366286\tNNZ=54101\n",
      "[SparseLR] Epoch 135 (358.11s)\tAvg. loss=0.366217\tNNZ=54101\n",
      "[SparseLR] Epoch 140 (371.47s)\tAvg. loss=0.366234\tNNZ=54101\n",
      "[SparseLR] Epoch 145 (384.92s)\tAvg. loss=0.366254\tNNZ=54101\n",
      "[SparseLR] Epoch 150 (398.50s)\tAvg. loss=0.366220\tNNZ=54101\n",
      "[SparseLR] Epoch 155 (411.74s)\tAvg. loss=0.366285\tNNZ=54101\n",
      "[SparseLR] Epoch 160 (424.89s)\tAvg. loss=0.366701\tNNZ=54101\n",
      "[SparseLR] Epoch 165 (438.09s)\tAvg. loss=0.366358\tNNZ=54101\n",
      "[SparseLR] Epoch 170 (451.46s)\tAvg. loss=0.366142\tNNZ=54101\n",
      "[SparseLR] Epoch 175 (464.66s)\tAvg. loss=0.366217\tNNZ=54101\n",
      "[SparseLR] Epoch 180 (477.81s)\tAvg. loss=0.366261\tNNZ=54101\n",
      "[SparseLR] Epoch 185 (490.94s)\tAvg. loss=0.366278\tNNZ=54101\n",
      "[SparseLR] Epoch 190 (504.21s)\tAvg. loss=0.366868\tNNZ=54101\n",
      "[SparseLR] Epoch 195 (517.36s)\tAvg. loss=0.366141\tNNZ=54101\n",
      "[SparseLR] Epoch 199 (527.92s)\tAvg. loss=0.366115\tNNZ=54101\n",
      "[SparseLR] Training done (527.92s)\n",
      "CPU times: user 10min 21s, sys: 51.9 s, total: 11min 13s\n",
      "Wall time: 8min 48s\n"
     ]
    }
   ],
   "source": [
    "from snorkel.learning import SparseLogisticRegression\n",
    "\n",
    "disc_model = SparseLogisticRegression()\n",
    "%time disc_model.train(F_train, train_marginals, n_epochs=200, lr=0.001)"
   ]
  },
  {
   "cell_type": "markdown",
   "metadata": {},
   "source": [
    "### Evaluating on the Test Set\n",
    "In this final section, we'll get the score we've been after: the performance of the extraction model on the blind test set (split 2). First, we load the test set labels and gold candidates from earlier:"
   ]
  },
  {
   "cell_type": "code",
   "execution_count": 30,
   "metadata": {
    "collapsed": true
   },
   "outputs": [],
   "source": [
    "from snorkel.annotations import load_gold_labels\n",
    "L_gold_test = load_gold_labels(session, annotator_name='gold', split=2)"
   ]
  },
  {
   "cell_type": "markdown",
   "metadata": {
    "scrolled": true
   },
   "source": [
    "Now, we score using the discriminitive model:"
   ]
  },
  {
   "cell_type": "code",
   "execution_count": 43,
   "metadata": {
    "scrolled": false
   },
   "outputs": [
    {
     "name": "stdout",
     "output_type": "stream",
     "text": [
      "========================================\n",
      "Scores (Un-adjusted)\n",
      "========================================\n",
      "Pos. class accuracy: 0.303\n",
      "Neg. class accuracy: 0.698\n",
      "Precision            0.348\n",
      "Recall               0.303\n",
      "F1                   0.324\n",
      "----------------------------------------\n",
      "TP: 606 | FP: 1137 | TN: 2631 | FN: 1394\n",
      "========================================\n",
      "\n"
     ]
    }
   ],
   "source": [
    "tp, fp, tn, fn = disc_model.score(session, F_test, L_gold_test, b=0.7)"
   ]
  },
  {
   "cell_type": "code",
   "execution_count": 44,
   "metadata": {
    "scrolled": true
   },
   "outputs": [
    {
     "name": "stdout",
     "output_type": "stream",
     "text": [
      "========================================\n",
      "Scoring on Entity-Level Gold Data\n",
      "========================================\n",
      "Corpus Precision 0.232\n",
      "Corpus Recall    0.964\n",
      "Corpus F1        0.375\n",
      "----------------------------------------\n",
      "TP: 106 | FP: 350 | FN: 4\n",
      "========================================\n",
      "\n",
      "CPU times: user 52.7 ms, sys: 2.64 ms, total: 55.3 ms\n",
      "Wall time: 54.7 ms\n"
     ]
    }
   ],
   "source": [
    "from paleo_utils import entity_level_f1\n",
    "\n",
    "%time (TP, FP, FN) = entity_level_f1(tp.union(fp), gold_file, test_docs, measurements)"
   ]
  },
  {
   "cell_type": "markdown",
   "metadata": {},
   "source": [
    "# Phase 4:  Error Analysis & Iterative KBC\n",
    "\n",
    "During the development process, we can iteratively improve the quality of our labeling functions through error analysis, without executing the full pipeline as in previous techniques. \n",
    "\n",
    "You may have noticed that our final score is about 40 F1 points. To remedy this and improve our quality, we can perform error analysis to understand what kinds of patterns we may have missed, or what issues exist with our labeling functions. Then, we can edit our set of labeling functions and rerun Phase 3, Probabilistic Relation Classification. \n",
    "\n",
    "More details can be found in the [hardware tutorial](https://github.com/HazyResearch/snorkel/blob/fonduer/tutorials/fonduer/hardware/max_storage_temp_tutorial.ipynb)."
   ]
  }
 ],
 "metadata": {
  "anaconda-cloud": {},
  "kernelspec": {
   "display_name": "Python 2",
   "language": "python",
   "name": "python2"
  },
  "language_info": {
   "codemirror_mode": {
    "name": "ipython",
    "version": 2
   },
   "file_extension": ".py",
   "mimetype": "text/x-python",
   "name": "python",
   "nbconvert_exporter": "python",
   "pygments_lexer": "ipython2",
   "version": "2.7.13"
  }
 },
 "nbformat": 4,
 "nbformat_minor": 1
}
